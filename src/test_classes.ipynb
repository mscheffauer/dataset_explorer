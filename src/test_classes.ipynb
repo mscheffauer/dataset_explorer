{
 "cells": [
  {
   "cell_type": "markdown",
   "metadata": {},
   "source": [
    "# Assignment 1: Basic Concepts of Object-Oriented Programming"
   ]
  },
  {
   "cell_type": "code",
   "execution_count": 1,
   "metadata": {},
   "outputs": [],
   "source": [
    "%load_ext autoreload\n",
    "%autoreload 2"
   ]
  },
  {
   "cell_type": "markdown",
   "metadata": {},
   "source": [
    "## Part 1: Warm-Up Task: Banking System"
   ]
  },
  {
   "cell_type": "code",
   "execution_count": 2,
   "metadata": {},
   "outputs": [],
   "source": [
    "from banking_system import User, BankingSystem\n"
   ]
  },
  {
   "cell_type": "code",
   "execution_count": 3,
   "metadata": {},
   "outputs": [],
   "source": [
    "# Generate some users\n",
    "\n",
    "richard = User(\"Richard\",\n",
    "               \"Richboy\",\n",
    "               \"Moneystreet 4\",\n",
    "               \"+431234567890\")\n",
    "\n",
    "nancy = User(\"Nancy\",\n",
    "             \"Narcississy\",\n",
    "             \"Overconfidence-Alley 1\",\n",
    "             \"+391123581321\")\n",
    "\n",
    "\n",
    "porter = User(\"Porter\",\n",
    "              \"Poorguy\",\n",
    "              \"Underdog-Lane 147\",\n",
    "              \"+490987654321\")"
   ]
  },
  {
   "cell_type": "code",
   "execution_count": 4,
   "metadata": {},
   "outputs": [
    {
     "name": "stdout",
     "output_type": "stream",
     "text": [
      "endreturn\n",
      "First Name: Richard\n",
      "Last Name: Richboy\n",
      "Address: Moneystreet 4\n",
      "Phone Number: +431234567890\n",
      "Balance: 999999999.00\n",
      "IBAN: AT562081500000000001\n",
      "BIC: STSPAT2GXXX\n",
      "----------------------------------------\n",
      "First Name: Nancy\n",
      "Last Name: Narcississy\n",
      "Address: Overconfidence-Alley 1\n",
      "Phone Number: +391123581321\n",
      "Balance: 10000.00\n",
      "IBAN: AT292081500000000002\n",
      "BIC: STSPAT2GXXX\n",
      "----------------------------------------\n",
      "Nancy Narcississy has insufficient balance. Current balance: 10000.00, 5000.00 needed\n"
     ]
    }
   ],
   "source": [
    "# Create banking system\n",
    "bank = BankingSystem('STSPAT2GXXX', 'AT', '20815')\n",
    "\n",
    "\n",
    "print(\"endreturn\")\n",
    "# Create accounts\n",
    "bank.create_user_account(richard)\n",
    "bank.create_user_account(nancy)\n",
    "\n",
    "# Add money\n",
    "bank.add_money(richard, 999999999.0)\n",
    "\n",
    "# Print account_info\n",
    "bank.account_info(richard)\n",
    "\n",
    "# Transfer money\n",
    "bank.transfer_money(10000.0, richard, nancy)\n",
    "print(\"-\" * 40)\n",
    "bank.account_info(nancy)\n",
    "\n",
    "print(\"-\" * 40)\n",
    "bank.transfer_money(15000.0, nancy, richard)\n",
    "\n",
    "# Remove account\n",
    "bank.remove_account(nancy)"
   ]
  },
  {
   "cell_type": "code",
   "execution_count": 5,
   "metadata": {},
   "outputs": [
    {
     "ename": "ValueError",
     "evalue": "An account with this user already exists",
     "output_type": "error",
     "traceback": [
      "\u001b[1;31m---------------------------------------------------------------------------\u001b[0m",
      "\u001b[1;31mValueError\u001b[0m                                Traceback (most recent call last)",
      "\u001b[1;32m~\\AppData\\Local\\Temp/ipykernel_9228/1573451140.py\u001b[0m in \u001b[0;36m<module>\u001b[1;34m\u001b[0m\n\u001b[0;32m      1\u001b[0m \u001b[1;31m# Try errors\u001b[0m\u001b[1;33m\u001b[0m\u001b[1;33m\u001b[0m\u001b[0m\n\u001b[1;32m----> 2\u001b[1;33m \u001b[0mbank\u001b[0m\u001b[1;33m.\u001b[0m\u001b[0mcreate_user_account\u001b[0m\u001b[1;33m(\u001b[0m\u001b[0mrichard\u001b[0m\u001b[1;33m)\u001b[0m \u001b[1;31m# already exists in the banking system\u001b[0m\u001b[1;33m\u001b[0m\u001b[1;33m\u001b[0m\u001b[0m\n\u001b[0m\u001b[0;32m      3\u001b[0m \u001b[0mbank\u001b[0m\u001b[1;33m.\u001b[0m\u001b[0madd_money\u001b[0m\u001b[1;33m(\u001b[0m\u001b[0mporter\u001b[0m\u001b[1;33m,\u001b[0m \u001b[1;36m419.99\u001b[0m\u001b[1;33m)\u001b[0m \u001b[1;31m# does not exist in the banking system\u001b[0m\u001b[1;33m\u001b[0m\u001b[1;33m\u001b[0m\u001b[0m\n",
      "\u001b[1;32m~\\Ass_1\\banking_system.py\u001b[0m in \u001b[0;36mcreate_user_account\u001b[1;34m(self, user)\u001b[0m\n\u001b[0;32m     93\u001b[0m \u001b[1;33m\u001b[0m\u001b[0m\n\u001b[0;32m     94\u001b[0m     \u001b[1;32mdef\u001b[0m \u001b[0mcreate_user_account\u001b[0m\u001b[1;33m(\u001b[0m\u001b[0mself\u001b[0m\u001b[1;33m,\u001b[0m\u001b[0muser\u001b[0m \u001b[1;33m:\u001b[0m \u001b[0mUser\u001b[0m\u001b[1;33m)\u001b[0m \u001b[1;33m->\u001b[0m \u001b[1;32mNone\u001b[0m\u001b[1;33m:\u001b[0m\u001b[1;33m\u001b[0m\u001b[1;33m\u001b[0m\u001b[0m\n\u001b[1;32m---> 95\u001b[1;33m         \u001b[1;32mif\u001b[0m \u001b[1;32mnot\u001b[0m \u001b[0mself\u001b[0m\u001b[1;33m.\u001b[0m\u001b[0m_user_exist\u001b[0m\u001b[1;33m(\u001b[0m\u001b[0muser\u001b[0m\u001b[1;33m,\u001b[0m\u001b[1;32mTrue\u001b[0m\u001b[1;33m)\u001b[0m\u001b[1;33m:\u001b[0m\u001b[1;33m\u001b[0m\u001b[1;33m\u001b[0m\u001b[0m\n\u001b[0m\u001b[0;32m     96\u001b[0m             \u001b[1;31m#pad the account id and sum up everything to iban. then create bank account\u001b[0m\u001b[1;33m\u001b[0m\u001b[1;33m\u001b[0m\u001b[0m\n\u001b[0;32m     97\u001b[0m             \u001b[1;31m#for new user and add to dict.\u001b[0m\u001b[1;33m\u001b[0m\u001b[1;33m\u001b[0m\u001b[0m\n",
      "\u001b[1;32m~\\Ass_1\\banking_system.py\u001b[0m in \u001b[0;36m_user_exist\u001b[1;34m(self, user, toggle_suppress)\u001b[0m\n\u001b[0;32m     76\u001b[0m         \u001b[1;32mif\u001b[0m \u001b[0muser\u001b[0m \u001b[1;32min\u001b[0m \u001b[0mself\u001b[0m\u001b[1;33m.\u001b[0m\u001b[0m_accounts\u001b[0m\u001b[1;33m:\u001b[0m\u001b[1;33m\u001b[0m\u001b[1;33m\u001b[0m\u001b[0m\n\u001b[0;32m     77\u001b[0m             \u001b[1;32mif\u001b[0m \u001b[0mtoggle_suppress\u001b[0m\u001b[1;33m:\u001b[0m\u001b[1;33m\u001b[0m\u001b[1;33m\u001b[0m\u001b[0m\n\u001b[1;32m---> 78\u001b[1;33m                 \u001b[1;32mraise\u001b[0m \u001b[0mValueError\u001b[0m\u001b[1;33m(\u001b[0m\u001b[1;34m\"An account with this user already exists\"\u001b[0m\u001b[1;33m)\u001b[0m\u001b[1;33m\u001b[0m\u001b[1;33m\u001b[0m\u001b[0m\n\u001b[0m\u001b[0;32m     79\u001b[0m             \u001b[1;32mreturn\u001b[0m \u001b[1;32mTrue\u001b[0m\u001b[1;33m\u001b[0m\u001b[1;33m\u001b[0m\u001b[0m\n\u001b[0;32m     80\u001b[0m         \u001b[1;32melse\u001b[0m\u001b[1;33m:\u001b[0m\u001b[1;33m\u001b[0m\u001b[1;33m\u001b[0m\u001b[0m\n",
      "\u001b[1;31mValueError\u001b[0m: An account with this user already exists"
     ]
    }
   ],
   "source": [
    "# Try errors\n",
    "bank.create_user_account(richard) # already exists in the banking system\n",
    "bank.add_money(porter, 419.99) # does not exist in the banking system"
   ]
  },
  {
   "cell_type": "code",
   "execution_count": 6,
   "metadata": {},
   "outputs": [],
   "source": [
    "# Make sure to test all your methods\n"
   ]
  },
  {
   "cell_type": "markdown",
   "metadata": {},
   "source": [
    "### Part 2: Dataset Exploration System"
   ]
  },
  {
   "cell_type": "code",
   "execution_count": 9,
   "metadata": {},
   "outputs": [],
   "source": [
    "from config_reader import ConfigReader\n",
    "from dataset import Dataset\n",
    "from dataset_explorer import DatasetExplorer\n",
    "from plotter import Plotter\n",
    "\n"
   ]
  },
  {
   "cell_type": "markdown",
   "metadata": {},
   "source": [
    "#### Heart Disease Dataset"
   ]
  },
  {
   "cell_type": "code",
   "execution_count": 10,
   "metadata": {},
   "outputs": [
    {
     "name": "stdout",
     "output_type": "stream",
     "text": [
      "{'box': <class 'plotter.BoxPlotter'>, 'bar': <class 'plotter.BarPlotter'>, 'histogram': <class 'plotter.HistogramPlotter'>}\n"
     ]
    },
    {
     "data": {
      "text/plain": [
       "matplotlib.figure.Figure"
      ]
     },
     "execution_count": 10,
     "metadata": {},
     "output_type": "execute_result"
    },
    {
     "data": {
      "image/png": "[encoded data removed]",
      "text/plain": [
       "<Figure size 432x288 with 1 Axes>"
      ]
     },
     "metadata": {
      "needs_background": "light"
     },
     "output_type": "display_data"
    }
   ],
   "source": [
    "config = ConfigReader.read_json_config(\"./config_heart_disease.json\")\n",
    "test = ConfigReader()\n",
    "dataset = Dataset(config)\n",
    "explorer = DatasetExplorer(dataset, config[\"plot_types\"])\n",
    "dictt = Plotter.get_plotter_classes()\n",
    "print(dictt)\n",
    "heart_ex = DatasetExplorer(dataset, {'sex': 'box', 'age': 'bar', 'thal': 'histogram', 'chol': 'bar'})\n",
    "\n",
    "testbox1 = heart_ex.plot_feature(\"sex\")\n",
    "type(testbox1)"
   ]
  },
  {
   "cell_type": "code",
   "execution_count": 11,
   "metadata": {},
   "outputs": [
    {
     "name": "stdout",
     "output_type": "stream",
     "text": [
      "(0.0937045217279732, 0.10015167883866867)\n",
      "(0.07073450093518993, 0.21500744127776894)\n",
      "(0.055607011864422295, 0.21855236875802475)\n",
      "---\n",
      "Quartiles:\n",
      "\tQ1: 175.000\n",
      "\tQ2: 223.000\n",
      "\tQ3: 268.000\n",
      "age: age in years\n",
      "Features and descriptions:\n",
      "\tage: age in years\n",
      "\tsex: sex (1 = male; 0 = female)\n",
      "\tcp: chest pain type (1 = typical angina; 2 = atypical angina; 3 = non-anginal pain; 4 = asymptomatic)\n",
      "\ttrestbps: resting blood pressure (in mm Hg on admission to the hospital)\n",
      "\tchol: chol: serum cholestoral in mg/dl\n",
      "\tfbs: fasting blood sugar > 120 mg/dl  (1 = true; 0 = false)\n",
      "\trestecg: resting electrocardiographic results (0 = normal; 1 = having ST-T wave abnormality - T wave inversions and/or ST elevation or depression of > 0.05 mV; 2 = showing probable or definite left ventricular hypertrophy by Estes' criteria)\n",
      "\tthalach: maximum heart rate achieved\n",
      "\texang: exercise induced angina (1 = yes; 0 = no)\n",
      "\toldpeak: ST depression induced by exercise relative to rest\n",
      "\tslope: the slope of the peak exercise ST segment (1 = upsloping; 2 = flat; 3 = downsloping)\n",
      "\tca: number of major vessels (0-3) colored by flourosopy\n",
      "\tthal: 3 = normal; 6 = fixed defect; 7 = reversable defect\n",
      "\ttarget: heart disease present (0 = no; >0 = yes)\n",
      "age: age in years\n"
     ]
    }
   ],
   "source": [
    "# Calculate correlations and quartiles\n",
    "print(explorer.calculate_correlation_between_features(\"trestbps\", \"ca\", method = \"pearson\"))\n",
    "print(explorer.calculate_correlation_between_features(\"trestbps\", \"ca\", method = \"spearman\"))\n",
    "print(explorer.calculate_correlation_between_features(\"trestbps\", \"ca\", method = \"kendalltau\"))\n",
    "print(\"---\")\n",
    "explorer.print_quartiles_of_feature(\"chol\")\n",
    "explorer.print_feature_description(\"age\")\n",
    "explorer.print_feature_description()\n",
    "explorer.print_feature_description(\"age\")\n"
   ]
  },
  {
   "cell_type": "code",
   "execution_count": 12,
   "metadata": {},
   "outputs": [
    {
     "data": {
      "image/png": "[encoded data removed]",
      "text/plain": [
       "<Figure size 432x288 with 1 Axes>"
      ]
     },
     "metadata": {
      "needs_background": "light"
     },
     "output_type": "display_data"
    },
    {
     "data": {
      "image/png": "[encoded data removed]",
      "text/plain": [
       "<Figure size 432x288 with 1 Axes>"
      ]
     },
     "metadata": {
      "needs_background": "light"
     },
     "output_type": "display_data"
    }
   ],
   "source": [
    "# Plot features\n",
    "explorer.plot_feature(\"trestbps\");\n",
    "explorer.plot_feature_vs_target(\"trestbps\");"
   ]
  },
  {
   "cell_type": "code",
   "execution_count": 13,
   "metadata": {},
   "outputs": [
    {
     "data": {
      "image/png": "[encoded data removed]",
      "text/plain": [
       "<Figure size 432x288 with 4 Axes>"
      ]
     },
     "metadata": {
      "needs_background": "light"
     },
     "output_type": "display_data"
    }
   ],
   "source": [
    "# Make sure to test all your methods and try different features\n",
    "from plotter import BarPlotter\n",
    "BarPlotter.plot_feature_vs_target('some_feature_name', [1, 3, 2, 4, 2, 3, 7, 2, 4, 4, 3, 2, 3, 1, 0], 'some_target_name', [5, 5, 5, 7, 6, 5, 4, 5, 4, 4, 5, 5, 5, 5, 5]);"
   ]
  },
  {
   "cell_type": "markdown",
   "metadata": {},
   "source": [
    "#### Parkinson Speech Dataset"
   ]
  },
  {
   "cell_type": "code",
   "execution_count": 17,
   "metadata": {},
   "outputs": [
    {
     "data": {
      "text/plain": [
       "<dataset.Dataset at 0x1ff423aa7c0>"
      ]
     },
     "execution_count": 17,
     "metadata": {},
     "output_type": "execute_result"
    }
   ],
   "source": [
    "config = ConfigReader.read_json_config(\"./config_parkinson_sound_recording.json\")\n",
    "dataset = Dataset(config)\n",
    "explorer = DatasetExplorer(dataset, config[\"plot_types\"])\n",
    "explorer.dataset = dataset\n",
    "explorer.dataset"
   ]
  },
  {
   "cell_type": "code",
   "execution_count": 18,
   "metadata": {},
   "outputs": [
    {
     "name": "stdout",
     "output_type": "stream",
     "text": [
      "(0.5875687098963138, 4.899743098532824e-113)\n",
      "(0.5875687098963138, 4.899743098532824e-113)\n",
      "(0.5018105356838924, 2.149143900981311e-150)\n",
      "---\n",
      "Quartiles:\n",
      "\tQ1: 1.174\n",
      "\tQ2: 2.147\n",
      "\tQ3: 3.231\n"
     ]
    }
   ],
   "source": [
    "# Calculate correlations and quartiles\n",
    "print(explorer.calculate_correlation_between_features(\"jitter_local\", \"shimmer_local\"))\n",
    "print(explorer.calculate_correlation_between_features(\"jitter_local\", \"shimmer_local\", method = \"pearson\"))\n",
    "print(explorer.calculate_correlation_between_features(\"jitter_local\", \"shimmer_local\", method = \"kendalltau\"))\n",
    "print(\"---\")\n",
    "explorer.print_quartiles_of_feature(\"jitter_local\")"
   ]
  },
  {
   "cell_type": "code",
   "execution_count": 8,
   "metadata": {},
   "outputs": [
    {
     "data": {
      "image/png": "[encoded data removed]",
      "text/plain": [
       "<Figure size 432x288 with 1 Axes>"
      ]
     },
     "metadata": {
      "needs_background": "light"
     },
     "output_type": "display_data"
    },
    {
     "data": {
      "image/png": "[encoded data removed]",
      "text/plain": [
       "<Figure size 432x288 with 1 Axes>"
      ]
     },
     "metadata": {
      "needs_background": "light"
     },
     "output_type": "display_data"
    }
   ],
   "source": [
    "# Plot features\n",
    "explorer.plot_feature(\"jitter_local\"); \n",
    "explorer.plot_feature_vs_target(\"jitter_local\",\"parkinson\");"
   ]
  },
  {
   "cell_type": "code",
   "execution_count": 346,
   "metadata": {},
   "outputs": [],
   "source": [
    "# Make sure to test all your methods and try different features\n"
   ]
  },
  {
   "cell_type": "code",
   "execution_count": null,
   "metadata": {},
   "outputs": [],
   "source": []
  },
  {
   "cell_type": "code",
   "execution_count": null,
   "metadata": {},
   "outputs": [],
   "source": []
  },
  {
   "cell_type": "code",
   "execution_count": null,
   "metadata": {},
   "outputs": [],
   "source": []
  }
 ],
 "metadata": {
  "kernelspec": {
   "display_name": "Python 3 (ipykernel)",
   "language": "python",
   "name": "python3"
  },
  "language_info": {
   "codemirror_mode": {
    "name": "ipython",
    "version": 3
   },
   "file_extension": ".py",
   "mimetype": "text/x-python",
   "name": "python",
   "nbconvert_exporter": "python",
   "pygments_lexer": "ipython3",
   "version": "3.9.7"
  }
 },
 "nbformat": 4,
 "nbformat_minor": 2
}
